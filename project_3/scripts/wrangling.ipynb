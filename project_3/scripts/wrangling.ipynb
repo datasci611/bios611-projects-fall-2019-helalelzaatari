{
 "cells": [
  {
   "cell_type": "code",
   "execution_count": 2,
   "metadata": {},
   "outputs": [],
   "source": [
    "#import packages\n",
    "\n",
    "import pandas as pd\n",
    "import numpy as np\n",
    "import math\n",
    "import datetime as datetime\n",
    "import calendar\n",
    "import time\n",
    "\n",
    "# read raw data and format\n",
    "\n",
    "age_client = pd.read_csv('https://raw.githubusercontent.com/biodatascience/datasci611/gh-pages/data/project2_2019/CLIENT_191102.tsv',sep='\\t')\n",
    "date_client = pd.read_csv('https://raw.githubusercontent.com/biodatascience/datasci611/gh-pages/data/project2_2019/ENTRY_EXIT_191102.tsv',sep='\\t')\n",
    "survey_client = pd.read_csv('https://raw.githubusercontent.com/biodatascience/datasci611/gh-pages/data/project2_2019/EE_UDES_191102.tsv',sep='\\t')\n",
    "disability_in = pd.read_csv(\"https://raw.githubusercontent.com/biodatascience/datasci611/gh-pages/data/project2_2019/DISABILITY_ENTRY_191102.tsv\", sep = '\\t')\n",
    "disability_out = pd.read_csv(\"https://raw.githubusercontent.com/biodatascience/datasci611/gh-pages/data/project2_2019/DISABILITY_EXIT_191102.tsv\", sep = '\\t')\n",
    "\n"
   ]
  },
  {
   "cell_type": "code",
   "execution_count": 4,
   "metadata": {
    "scrolled": true
   },
   "outputs": [
    {
     "data": {
      "text/html": [
       "<div>\n",
       "<style scoped>\n",
       "    .dataframe tbody tr th:only-of-type {\n",
       "        vertical-align: middle;\n",
       "    }\n",
       "\n",
       "    .dataframe tbody tr th {\n",
       "        vertical-align: top;\n",
       "    }\n",
       "\n",
       "    .dataframe thead th {\n",
       "        text-align: right;\n",
       "    }\n",
       "</style>\n",
       "<table border=\"1\" class=\"dataframe\">\n",
       "  <thead>\n",
       "    <tr style=\"text-align: right;\">\n",
       "      <th></th>\n",
       "      <th>EE UID</th>\n",
       "      <th>Client ID</th>\n",
       "      <th>Destination</th>\n",
       "      <th>entry_date</th>\n",
       "      <th>exit_date</th>\n",
       "      <th>diff_date</th>\n",
       "    </tr>\n",
       "  </thead>\n",
       "  <tbody>\n",
       "    <tr>\n",
       "      <td>0</td>\n",
       "      <td>687901</td>\n",
       "      <td>397941</td>\n",
       "      <td>Rental by client, with other ongoing housing s...</td>\n",
       "      <td>2015-08-15</td>\n",
       "      <td>2016-07-11</td>\n",
       "      <td>331.0</td>\n",
       "    </tr>\n",
       "    <tr>\n",
       "      <td>1</td>\n",
       "      <td>687902</td>\n",
       "      <td>130335</td>\n",
       "      <td>Data not collected (HUD)</td>\n",
       "      <td>2015-08-15</td>\n",
       "      <td>2015-08-31</td>\n",
       "      <td>16.0</td>\n",
       "    </tr>\n",
       "    <tr>\n",
       "      <td>2</td>\n",
       "      <td>687903</td>\n",
       "      <td>188933</td>\n",
       "      <td>Staying or living with friends, temporary tenu...</td>\n",
       "      <td>2015-08-15</td>\n",
       "      <td>2015-09-19</td>\n",
       "      <td>35.0</td>\n",
       "    </tr>\n",
       "    <tr>\n",
       "      <td>3</td>\n",
       "      <td>687904</td>\n",
       "      <td>168290</td>\n",
       "      <td>Hospital or other residential non-psychiatric ...</td>\n",
       "      <td>2015-08-15</td>\n",
       "      <td>2016-03-07</td>\n",
       "      <td>205.0</td>\n",
       "    </tr>\n",
       "    <tr>\n",
       "      <td>4</td>\n",
       "      <td>687905</td>\n",
       "      <td>123122</td>\n",
       "      <td>Staying or living with friends, temporary tenu...</td>\n",
       "      <td>2015-08-15</td>\n",
       "      <td>2015-08-24</td>\n",
       "      <td>9.0</td>\n",
       "    </tr>\n",
       "  </tbody>\n",
       "</table>\n",
       "</div>"
      ],
      "text/plain": [
       "   EE UID  Client ID                                        Destination  \\\n",
       "0  687901     397941  Rental by client, with other ongoing housing s...   \n",
       "1  687902     130335                           Data not collected (HUD)   \n",
       "2  687903     188933  Staying or living with friends, temporary tenu...   \n",
       "3  687904     168290  Hospital or other residential non-psychiatric ...   \n",
       "4  687905     123122  Staying or living with friends, temporary tenu...   \n",
       "\n",
       "  entry_date  exit_date  diff_date  \n",
       "0 2015-08-15 2016-07-11      331.0  \n",
       "1 2015-08-15 2015-08-31       16.0  \n",
       "2 2015-08-15 2015-09-19       35.0  \n",
       "3 2015-08-15 2016-03-07      205.0  \n",
       "4 2015-08-15 2015-08-24        9.0  "
      ]
     },
     "execution_count": 4,
     "metadata": {},
     "output_type": "execute_result"
    }
   ],
   "source": [
    "# we will merge for the disability in and out and then finally merge those two with the survey_client\n",
    "\n",
    "merged_data = pd.merge(disability_in, disability_out, on = \"Client ID\", how = \"right\")\n",
    "\n",
    "#next we will format the data and keep variables of interest\n",
    "\n",
    "age_client_keep = age_client[['Client ID', 'Client Age at Entry', 'Client Gender',\n",
    "       'Client Primary Race', 'Client Ethnicity', 'Client Veteran Status']]\n",
    "age_client_keep.columns = ['id', 'age_at_entry', 'gender', 'race', 'ethnicity', 'veteran_status']\n",
    "\n",
    "age_client_keep = age_client_keep.drop_duplicates(subset = \"id\")\n",
    "age_client_keep = age_client_keep.dropna(how = 'any')\n",
    "age_client_keep.head()\n",
    "\n",
    "## we clean up data for date_client in order to calculate number of days stayed for each person\n",
    "date_client[\"entry_date\"] = pd.to_datetime(date_client['Entry Date'], format='%m/%d/%Y')\n",
    "date_client['exit_date'] =  pd.to_datetime(date_client['Exit Date'], format='%m/%d/%Y')\n",
    "date_client[\"diff_date\"] = date_client['exit_date'] - date_client['entry_date']\n",
    "date_client['diff_date'] = date_client['diff_date'] / np.timedelta64(1, 'D') \n",
    "final_date_client = date_client[['EE UID','Client ID','Destination','entry_date','exit_date','diff_date']]\n",
    "final_date_client.head()"
   ]
  },
  {
   "cell_type": "code",
   "execution_count": 5,
   "metadata": {},
   "outputs": [],
   "source": [
    "export_csv = final_date_client.to_csv (r'C:\\Users\\Helal\\Desktop\\BIOS 611\\cleandata', index = None, header=True)"
   ]
  },
  {
   "cell_type": "code",
   "execution_count": null,
   "metadata": {},
   "outputs": [],
   "source": []
  },
  {
   "cell_type": "code",
   "execution_count": null,
   "metadata": {},
   "outputs": [],
   "source": []
  },
  {
   "cell_type": "code",
   "execution_count": null,
   "metadata": {},
   "outputs": [],
   "source": []
  }
 ],
 "metadata": {
  "kernelspec": {
   "display_name": "Python 3",
   "language": "python",
   "name": "python3"
  },
  "language_info": {
   "codemirror_mode": {
    "name": "ipython",
    "version": 3
   },
   "file_extension": ".py",
   "mimetype": "text/x-python",
   "name": "python",
   "nbconvert_exporter": "python",
   "pygments_lexer": "ipython3",
   "version": "3.7.4"
  }
 },
 "nbformat": 4,
 "nbformat_minor": 2
}
